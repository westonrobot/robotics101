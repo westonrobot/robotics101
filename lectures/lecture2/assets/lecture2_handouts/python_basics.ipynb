{
 "cells": [
  {
   "cell_type": "markdown",
   "metadata": {},
   "source": [
    "<h1><center><font color=green>Python Basics Sample Codes</font></center></h1>"
   ]
  },
  {
   "cell_type": "markdown",
   "metadata": {},
   "source": [
    "<h2><font color=Red> About </font></h2>\n",
    "\n",
    "This notebook seeks to cover and demonstrate certain topics of basic python2. While this notebook covers most of what you would need in a typical python project, the concepts covered here are non-exhaustive. Python is a fairly powerful language with many libraries and builtin mechanics, you should serach/explore further into the world of python to discover what else you can do."
   ]
  },
  {
   "cell_type": "markdown",
   "metadata": {},
   "source": [
    "### History of python2\n",
    "\n",
    "\n",
    "Python 2.0 was released in October 2000 and has since evolved and updated to the latest version 2.7 released in June 2009 alongside python 3.1. In 2014, it was announced that python 2.7 will be the last release for python 2 and support for python 2 will end in 2020, with python 2.7.18 as the final release version. Users were encouraged to upgrade as soon as possible to python3."
   ]
  },
  {
   "cell_type": "markdown",
   "metadata": {},
   "source": [
    "### So why are we still using it today?\n",
    "\n",
    "Unfortunately, due to the wide community and varying tools across the industry, updates to certain software/tools/hardware has been playing catch-up. One in particular has impacted us today. \n",
    "\n",
    "The popular Nvidia Jetson computers and associated modules, like the Jetson Nano Kit installed in each LIMO runs Nvidia's own custom OS called L4T. The L4T versions officially supported as of Early May 2022 are still based on Ubuntu 18.04 which in turn only officially supports ROS melodic which itself only supports python 2.\n",
    "\n",
    "While this notebook will demostrate python 2 concepts, these concepts are largely portable to python 3."
   ]
  },
  {
   "cell_type": "markdown",
   "metadata": {},
   "source": [
    "<h2><font color=Red> Basic Syntax </font></h2>\n",
    "\n",
    "Reference: https://www.tutorialspoint.com/python/python_basic_syntax.htm\n",
    "\n",
    "Python is a interpreted language that uses indentations to indicate code blocks and control flow. The number of spaces to indent by is variable but consecutive lines with the same indent are treated as one code block.\n",
    "\n",
    "Belolw is an example (do not need to understand the logic, but understand that there are various blocks that are denoted by their indentation)"
   ]
  },
  {
   "cell_type": "code",
   "execution_count": null,
   "metadata": {},
   "outputs": [],
   "source": [
    "# This is a comment that will not be executed\n",
    "print(\"Code block 1 start\")\n",
    "\n",
    "if True:\n",
    "    print(\"Code block 2\")\n",
    "else:\n",
    "    print(\"Code block 3\")\n",
    "\n",
    "print(\"Code block 1 end\")"
   ]
  },
  {
   "cell_type": "markdown",
   "metadata": {},
   "source": [
    "## Variables\n",
    "\n",
    "Reference: https://www.tutorialspoint.com/python/python_variable_types.htm\n",
    "\n",
    "Variables are reserved memory locations that store values that we use in a program.\n",
    "\n",
    "Python is a strongly typed and dynamically typed language. Strong typing means that variables have types and their types are matters when performing operations on a variable. Dynamic typing means that each variable's type is determined when the program runs (or runtime).\n",
    "\n",
    "Python has 5 standard data types that variables can be stored as in memory\n",
    "    * Numbers\n",
    "    * String\n",
    "    * List\n",
    "    * Tuple\n",
    "    * Dictionary"
   ]
  },
  {
   "cell_type": "markdown",
   "metadata": {},
   "source": [
    "### Numbers\n",
    "\n",
    "Number type stores numeric values and have 4 different numerical types\n",
    "    * int (signed integers)\n",
    "    * long (long integers, they can also be represented in octal and hexadecimal)\n",
    "    * float (floating point real values)\n",
    "    * complex (complex numbers)\n",
    "    \n",
    "They are created when a value is assigned to them"
   ]
  },
  {
   "cell_type": "code",
   "execution_count": null,
   "metadata": {},
   "outputs": [],
   "source": [
    "int_var = -10\n",
    "long_var = 213123123123L\n",
    "float_var = 21.07\n",
    "complex_var = 3e+26J\n",
    "\n",
    "print(type(int_var))\n",
    "print(type(long_var))\n",
    "print(type(float_var))\n",
    "print(type(complex_var))"
   ]
  },
  {
   "cell_type": "markdown",
   "metadata": {},
   "source": [
    "### String\n",
    "\n",
    "Python strings are a contiguous set of characters represented in quotation marks (either single or double).\n",
    "\n",
    "Since strings are a set of characters, these characters can be accessed and manipulated individually.\n",
    "\n",
    "Notice that string access/manipulation by **itself** does not change the original variable value directly"
   ]
  },
  {
   "cell_type": "code",
   "execution_count": null,
   "metadata": {},
   "outputs": [],
   "source": [
    "# creation\n",
    "str1 = \"Hello World!\"\n",
    "str2 = 'Hello Robotics101!'\n",
    "\n",
    "print(str1)\n",
    "print(str2)          # Prints complete string\n",
    "print(str2[0])       # Prints first character of the string\n",
    "print(str2[2:5])     # Prints characters starting from 3rd to 5th\n",
    "print(str2[2:])      # Prints string starting from 3rd character\n",
    "print(str2 * 2)      # Prints string two times\n",
    "print(str2 + \"TEST\") # Prints concatenated string"
   ]
  },
  {
   "cell_type": "markdown",
   "metadata": {},
   "source": [
    "### List\n",
    "\n",
    "Lists are python2's more versatile data type. A list contains items separated by commands and enclosed in square brackets ([]). Items in a list do not have to be the same data type and items do not have to be unique.\n",
    "\n",
    "Items can be accessed/manipulated using the slice operator ([] and [:]), with indexes starting at 0 to denote the first item and -1 denoting the last item\n",
    "\n",
    "Notice, when slicing with index, the slicing does not include the end index specified"
   ]
  },
  {
   "cell_type": "code",
   "execution_count": null,
   "metadata": {},
   "outputs": [],
   "source": [
    "list = [ 'First item', 786 , 21.07, 'karthee', \"Last item\" ]\n",
    "tinylist = [123, 'albert']\n",
    "\n",
    "print(list)          # Prints complete list\n",
    "print(list[0])       # Prints first element of the list\n",
    "print(list[4])       # Prints last item\n",
    "print(list[-1])      # Prints last item as well\n",
    "print(list[1:3])     # Prints elements starting from 2nd till 3rd \n",
    "print(list[2:])      # Prints elements starting from 3rd element\n",
    "print(tinylist * 2)  # Prints list two times\n",
    "print(list + tinylist) # Prints concatenated lists"
   ]
  },
  {
   "cell_type": "markdown",
   "metadata": {},
   "source": [
    "### Tuples\n",
    "\n",
    "\n",
    "Tuples are similar to Lists but are instead enclosed in parenthesis (()).\n",
    "\n",
    "Another notable difference is that while List's elements and size can be changed, tuples cannot be changed i.e. Tuples are read-only after creation"
   ]
  },
  {
   "cell_type": "code",
   "execution_count": null,
   "metadata": {},
   "outputs": [],
   "source": [
    "tuple = ('First item', 786 , 21.07, 'karthee', \"Last item\" )\n",
    "tinytuple = (123, 'albert')\n",
    "\n",
    "\n",
    "print(tuple)               # Prints the complete tuple\n",
    "print(tuple[0])            # Prints first element of the tuple\n",
    "print(tuple[4])            # Prints last item\n",
    "print(tuple[-1])           # Prints last item as well\n",
    "print(tuple[1:3])          # Prints elements of the tuple starting from 2nd till 3rd \n",
    "print(tuple[2:])           # Prints elements of the tuple starting from 3rd element\n",
    "print(tinytuple * 2)       # Prints the contents of the tuple twice\n",
    "print(tuple + tinytuple)   # Prints concatenated tuples"
   ]
  },
  {
   "cell_type": "code",
   "execution_count": null,
   "metadata": {},
   "outputs": [],
   "source": [
    "# Valid\n",
    "print(list)\n",
    "list[0] = \"Changed item\"\n",
    "print(list)\n",
    "\n",
    "# Invalid, will have error\n",
    "print(tuple)\n",
    "tuple[0] = \"Changed item\"\n",
    "print(tuple)"
   ]
  },
  {
   "cell_type": "markdown",
   "metadata": {},
   "source": [
    "### Dictionary\n",
    "\n",
    "Dictionary are a kind of hash table, where a item (called a key) identifies another item (called an value). This key-value pairing makes a dictionary item.\n",
    "\n",
    " A dictionary key can be almost any Python type, but are usually numbers or strings. Values, on the other hand, can be any arbitrary Python object.\n",
    " \n",
    " key item have to be unique to uniquely identify each value item"
   ]
  },
  {
   "cell_type": "code",
   "execution_count": null,
   "metadata": {},
   "outputs": [],
   "source": [
    "dict = {}\n",
    "dict['one'] = \"This is one\"\n",
    "dict[2]     = \"This is two\"\n",
    "\n",
    "tinydict = {'name': 'john','code':6734, 'dept': 'sales'}\n",
    "\n",
    "\n",
    "print(dict['one'])       # Prints value for 'one' key\n",
    "print(dict[2])           # Prints value for 2 key\n",
    "print(tinydict)          # Prints complete dictionary\n",
    "print(tinydict.keys())   # Prints all the keys\n",
    "print(tinydict.values()) # Prints all the values\n",
    "print(tinydict.items())  # Print all key-value pair items"
   ]
  },
  {
   "cell_type": "markdown",
   "metadata": {},
   "source": [
    "### Note on variables\n",
    "\n",
    "Some variable types can be changed (or typecasted) to other variable types.  \n",
    "e.g. int can be converted to a str using str()\n",
    "\n",
    "There are many rules and possibilites, far too many to be coverd here. Do research if there is any suitable conversion methods as and when needed."
   ]
  },
  {
   "cell_type": "markdown",
   "metadata": {},
   "source": [
    "<h2><font color=Red> Operators </font></h2>\n",
    "\n",
    "Reference: https://www.tutorialspoint.com/python/python_basic_operators.htm\n",
    "\n",
    "Python has several operator types, mainly\n",
    "    * Arithmethic\n",
    "    * Comparison\n",
    "    * Assignment\n",
    "    * Logical\n",
    "    * Bitwise\n",
    "    * Membership\n",
    "    * Identity\n",
    "    \n",
    " Each operator has limitations on which type of variables it can manipulate and limitations on the types of each operands. You can find these limitations by editing the cells below.\n",
    " \n",
    " Each type of operator handles a specific use case that are covered below"
   ]
  },
  {
   "cell_type": "markdown",
   "metadata": {},
   "source": [
    "### Arithmetic Operators\n",
    "\n",
    "The table below shows the different arithmetic operators available in python\n",
    "\n",
    "| Operator    | Description       |\n",
    "| ----------- | -----------       |\n",
    "| +           | Addition          |\n",
    "| -           | Subtraction       |\n",
    "| *           | Multiplication    |\n",
    "| /           | Division          |\n",
    "| %           | Modulo            |\n",
    "| **          | Exponent          |\n",
    "| //          | Floor Division    |\n",
    "\n",
    "Notice how the original variable values do not change"
   ]
  },
  {
   "cell_type": "code",
   "execution_count": null,
   "metadata": {},
   "outputs": [],
   "source": [
    "a = 10\n",
    "b = 3\n",
    "\n",
    "print(\"a add b                    = {}\".format(a + b))\n",
    "print(\"a subtract b               = {}\".format(a - b))\n",
    "print(\"a multiply b               = {}\".format(a * b))\n",
    "print(\"a divide b                 = {}\".format(a / b))\n",
    "print(\"a divide b, remainder      = {}\".format(a % b)) # a divded by b and return remainder\n",
    "print(\"a to power of b            = {}\".format(a ^ b))\n",
    "print(\"a divide b, whole quotient = {}\".format(a // b)) # a divded by b and return the whole number from quotient"
   ]
  },
  {
   "cell_type": "markdown",
   "metadata": {},
   "source": [
    "### Comparison\n",
    "\n",
    "These operators are used to compare 2 values to each other. The operator will evaluate and either return True or False, depending on the operator used\n",
    "\n",
    "The table belows shows the different comparison operators available in python\n",
    "\n",
    "| Operator    | Description       |\n",
    "| ----------- | -----------       |\n",
    "| ==          | Equal value       |\n",
    "| !=          | Not Equal value   |\n",
    "| <>          | Not Equal value   |\n",
    "| <           | Less than         |\n",
    "| >           | More than         |\n",
    "| >=          | More than or equal|\n",
    "| <=          | Less than or equal|"
   ]
  },
  {
   "cell_type": "code",
   "execution_count": null,
   "metadata": {},
   "outputs": [],
   "source": [
    "a = 10\n",
    "b = 3\n",
    "\n",
    "print(\"Is a equal b?                    = {}\".format(a == b))\n",
    "print(\"Is a not equal b?                = {}\".format(a != b))\n",
    "print(\"Is a not equal b?                = {}\".format(a <> b))\n",
    "print(\"Is a less than b                 = {}\".format(a < b))\n",
    "print(\"Is a more than b                 = {}\".format(a > b))\n",
    "print(\"Is a less than or equal b        = {}\".format(a <= b))\n",
    "print(\"Is a more than or equal b        = {}\".format(a >= b))"
   ]
  },
  {
   "cell_type": "markdown",
   "metadata": {},
   "source": [
    "### Assignment\n",
    "\n",
    "These operators can be thought as a \"shortcut\" to arithmetic operators assignment to a variables.\n",
    "i.e. Instead of a = a + 10, we can do a += 10\n",
    "\n",
    "However, unlike arithmetic operators, these operators directly change the original variable value.\n",
    "\n",
    "The table belows shows the different assignment operators available in python\n",
    "\n",
    "| Operator    | Description       |\n",
    "| ----------- | -----------       |\n",
    "| +=          | Addition          |\n",
    "| -=          | Subtraction       |\n",
    "| \\*=         | Multiplication    |\n",
    "| /=          | Division          |\n",
    "| %=          | Modulo            |\n",
    "| \\*\\*=       | Exponent          |\n",
    "| //=         | Floor Division    |"
   ]
  },
  {
   "cell_type": "code",
   "execution_count": null,
   "metadata": {},
   "outputs": [],
   "source": [
    "a = 10\n",
    "b = 3\n",
    "\n",
    "a += b\n",
    "print(a)\n",
    "\n",
    "a -= b\n",
    "print(a)\n",
    "\n",
    "a *= b\n",
    "print(a)\n",
    "\n",
    "a /= b\n",
    "print(a)\n",
    "\n",
    "a %= b\n",
    "print(a)\n",
    "\n",
    "a ^= b\n",
    "print(a)\n",
    "\n",
    "a //= b\n",
    "print(a)\n"
   ]
  },
  {
   "cell_type": "markdown",
   "metadata": {},
   "source": [
    "### Bitwise\n",
    "\n",
    "These operators works on bits and performs bit by bit operations.\n",
    "\n",
    "| Operator    | Description       |\n",
    "| ----------- | -----------       |\n",
    "| &           | Operator copies a bit to the result if it exists in both operands        |\n",
    "| \\|           | It copies a bit if it exists in either operand.       |\n",
    "| ^           | It copies the bit if it is set in one operand but not both.    |\n",
    "| ~           | It is unary and has the effect of 'flipping' bits. Binary one's complement          |\n",
    "| <<          | The left operands value is moved left by the number of bits specified by the right operand.   |\n",
    "| >>          | The left operands value is moved right by the number of bits specified by the right operand.  |\n",
    "\n",
    "\n",
    "Note: The printing has been limited to only show least significant 8 bits"
   ]
  },
  {
   "cell_type": "code",
   "execution_count": null,
   "metadata": {},
   "outputs": [],
   "source": [
    "a = 0b1010\n",
    "b = 3\n",
    "\n",
    "print(\"{:08b} & {:08b}                           = {:08b}\".format(a, b, a & b))\n",
    "print(\"{:08b} | {:08b}                           = {:08b}\".format(a, b, a | b))\n",
    "print(\"{:08b} ^ {:08b}                           = {:08b}\".format(a, b, a ^ b))\n",
    "print(\"~{:08b}                                   = {:08b}\".format(a, ~a ))\n",
    "print(\"{:08b} << {:08b}                          = {:08b}\".format(a, b, a<< b))\n",
    "print(\"{:08b} >> {:08b}                          = {:08b}\".format(a, b, a >> b))"
   ]
  },
  {
   "cell_type": "markdown",
   "metadata": {},
   "source": [
    "### Logical\n",
    "\n",
    "These operators are used to evaluate 2 operands' ***truth value*** using a specific \"logic\"\n",
    "\n",
    "| Operator    | Description       |\n",
    "| ----------- | -----------       |\n",
    "| and           | If both the operands are true then condition becomes true.       |\n",
    "| or           | If any of the two operands are true then condition becomes true.       |\n",
    "| not           | Used to reverse the logical state of its operand.    |\n",
    "\n",
    "Note: different variable types have different conditions to be evaluated as True or False.\n",
    "\n",
    "Can you find out what these are?"
   ]
  },
  {
   "cell_type": "code",
   "execution_count": null,
   "metadata": {},
   "outputs": [],
   "source": [
    "a = True\n",
    "b = False\n",
    "\n",
    "print(\"Are both a and b true?                           = {}\".format(a and b))\n",
    "print(\"Are either a or b true?                          = {}\".format(a or b))\n",
    "print(\"Whats the opposite of a?                         = {}\".format(not a))"
   ]
  },
  {
   "cell_type": "markdown",
   "metadata": {},
   "source": [
    "### Membership\n",
    "\n",
    "These operators test if a item is member of another object. e.g. if a value is in a list\n",
    "\n",
    "| Operator    | Description       |\n",
    "| ----------- | -----------       |\n",
    "| in          | true if found, false if not found       |\n",
    "| not in      | true if not found, false if found       |"
   ]
  },
  {
   "cell_type": "code",
   "execution_count": null,
   "metadata": {},
   "outputs": [],
   "source": [
    "a = 1\n",
    "list = [1, \"one\", 2, \"two\", 3, \"three\"]\n",
    "tuple = (1, 2, 3)\n",
    "dict = {1: \"one\", 2: \"two\", 3: \"three\"}\n",
    "\n",
    "print(\"Is a in the list?                         = {}\".format(a in list))\n",
    "print(\"Is a not in the list?                     = {}\".format(a not in list))\n",
    "print(\"Is a in the tuple                         = {}\".format(a in tuple))\n",
    "print(\"Is a not in the tuple                     = {}\".format(a not in tuple))\n",
    "print(\"Is a in the dict's keys                   = {}\".format(a in dict.keys()))\n",
    "print(\"Is a not in the dict's keys               = {}\".format(a not in dict.keys()))"
   ]
  },
  {
   "cell_type": "markdown",
   "metadata": {},
   "source": [
    "### Identity\n",
    "\n",
    "These operators compare the memory locations of the 2 operands, i.e. if the 2 operands are the same object. \n",
    "Note this is not the same as comparing the 2 operands' values.\n",
    "\n",
    "| Operator    | Description       |\n",
    "| ----------- | -----------       |\n",
    "| is          | Evaluates to true if the variables on either side of the operator point to the same object and false otherwise.       |\n",
    "| is not      | Evaluates to false if the variables on either side of the operator point to the same object and true otherwise.       |"
   ]
  },
  {
   "cell_type": "code",
   "execution_count": null,
   "metadata": {},
   "outputs": [],
   "source": [
    "list1 = [1, \"one\", 1, \"one\"]\n",
    "list2 = [1, \"one\", 1, \"one\"]\n",
    "a = list1\n",
    "b = list2\n",
    "c = a\n",
    "\n",
    "print(\"Is a and b the same object?         = {}\".format(a is b))\n",
    "print(\"Is a and b different objects?       = {}\".format(a is not b))\n",
    "print(\"Is a and c the same object?         = {}\".format(a is c))\n",
    "print(\"Is a and c different objects?       = {}\".format(a is not c))"
   ]
  },
  {
   "cell_type": "markdown",
   "metadata": {},
   "source": [
    "<h2><font color=Red> Decision making </font></h2>\n",
    "\n",
    "Decision making in python controls the logic flow and determines which code block executes according to a given condition.\n",
    "\n",
    "If an **if** statement evaluates to be **False**, if there is an **elif** statement, that statement is evaluated and if all are evaluated **False**, the **else** code block is executed if available.\n",
    "\n",
    "\n",
    "*elif* and *else* statements are optional\n",
    "\n",
    "Notice that the order of checking conditional matters"
   ]
  },
  {
   "cell_type": "code",
   "execution_count": null,
   "metadata": {},
   "outputs": [],
   "source": [
    "# if...elif...else blocks will only at most execute 1 block of code\n",
    "\n",
    "a = 11\n",
    "\n",
    "result = \"\"\n",
    "if a % 3 == 0 and a % 5 == 0: # is a a factor is 3 and 5?\n",
    "    result = \"FizzBuzz\"\n",
    "elif a % 3 == 0: # is a a factor of 3?\n",
    "    result = \"Fizz\"\n",
    "elif a % 5 == 0: # is a a factor of 5?\n",
    "    result = \"Buzz\"\n",
    "else:\n",
    "    result = a\n",
    "    \n",
    "result2 = \"\"\n",
    "if a % 3 == 0: # is a a factor of 3?\n",
    "    result2 = \"Fizz\"\n",
    "elif a % 3 == 0 and a % 5 == 0: # is a a factor is 3 and 5?\n",
    "    result2 = \"FizzBuzz\"\n",
    "elif a % 5 == 0: # is a a factor of 5?\n",
    "    result2 = \"Buzz\"\n",
    "else:\n",
    "    result2 = a\n",
    "    \n",
    "# Notice how the 2 results change depending on the order of checking\n",
    "print(result)\n",
    "print(result2)"
   ]
  },
  {
   "cell_type": "code",
   "execution_count": null,
   "metadata": {},
   "outputs": [],
   "source": [
    "# you can nest if...elif...else blocks within each other\n",
    "\n",
    "a = 2\n",
    "\n",
    "result = \"\"\n",
    "if a % 3 == 0:\n",
    "    result += \"Fizz\" # is a a factor of 3?\n",
    "    if a % 5 == 0:\n",
    "        result += \"Buzz\" # is a a factor of 3 and 5?\n",
    "elif a % 5 == 0:\n",
    "    result = \"Buzz\" # is a a factor of 5?\n",
    "    if a % 3 == 0:\n",
    "        result = \"Fizz\" + \"Buzz\" # is a a factor of 5 and 3?\n",
    "else:\n",
    "    result = \"neither\"\n",
    "    \n",
    "print(result)"
   ]
  },
  {
   "cell_type": "markdown",
   "metadata": {},
   "source": [
    "<h2><font color=Red> Loops </font></h2>\n",
    "\n",
    "Loops are useful where the same piece of code is repeatably applied.\n",
    "\n",
    "Python2 supports 2 types of loops, **for** and **while** loops. These are shown below\n",
    "\n",
    "***BONUS***: Loops are able to be controlled within the loop itself using the **break**, **continue** and **pass** statement, can you find what each does?"
   ]
  },
  {
   "cell_type": "markdown",
   "metadata": {},
   "source": [
    "### For loops\n",
    "\n",
    "For loops are useful when we want to execute a block of code fixed number of times."
   ]
  },
  {
   "cell_type": "code",
   "execution_count": null,
   "metadata": {},
   "outputs": [],
   "source": [
    "# For loops\n",
    "list = [1, 2, 3, 4, 5, 6, 7, 8, 9, 10, 11, 12, 13, 14, 15]\n",
    "\n",
    "for a in list: # BONUS: << check the range() function to do this easier\n",
    "    if a % 3 == 0 and a % 5 == 0: # is a a factor is 3 and 5?\n",
    "        print(\"FizzBuzz\")\n",
    "    elif a % 3 == 0: # is a a factor of 3?\n",
    "        print(\"Fizz\")\n",
    "    elif a % 5 == 0: # is a a factor of 5?\n",
    "        print(\"Buzz\")\n",
    "    else:\n",
    "        print(a)"
   ]
  },
  {
   "cell_type": "markdown",
   "metadata": {},
   "source": [
    "### While loops\n",
    "\n",
    "While loops are useful when we want to execute a block of code until a condition statement evaluates to false.\n",
    "This condition is checked before each loop is executed"
   ]
  },
  {
   "cell_type": "code",
   "execution_count": null,
   "metadata": {},
   "outputs": [],
   "source": [
    "# while loops\n",
    "\n",
    "a = 1\n",
    "\n",
    "while a <= 15:\n",
    "    if a % 3 == 0 and a % 5 == 0: # is a a factor is 3 and 5?\n",
    "        print(\"FizzBuzz\")\n",
    "    elif a % 3 == 0: # is a a factor of 3?\n",
    "        print(\"Fizz\")\n",
    "    elif a % 5 == 0: # is a a factor of 5?\n",
    "        print(\"Buzz\")\n",
    "    else:\n",
    "        print(a)\n",
    "    a += 1"
   ]
  },
  {
   "cell_type": "markdown",
   "metadata": {},
   "source": [
    "<h2><font color=Red> Functions </font></h2>\n",
    "\n",
    "Functions are a block of reusable code that are used to perform a single, related action. Pythons have builtin functions (in fact we have used one extensively alread, the **print** function) and we are able to define our own custom functions.\n",
    "\n",
    "How do we define a function?\n",
    "By using the def keyword of course!!!\n",
    "\n",
    "Below, we demonstrate how to define and use our very own custom function"
   ]
  },
  {
   "cell_type": "code",
   "execution_count": null,
   "metadata": {},
   "outputs": [],
   "source": [
    "# Define the function\n",
    "def play_fizzbuzz():\n",
    "    a = 1\n",
    "    while a <= 15:\n",
    "        if a % 3 == 0 and a % 5 == 0: # is a a factor is 3 and 5?\n",
    "            print(\"FizzBuzz\")\n",
    "        elif a % 3 == 0: # is a a factor of 3?\n",
    "            print(\"Fizz\")\n",
    "        elif a % 5 == 0: # is a a factor of 5?\n",
    "            print(\"Buzz\")\n",
    "        else:\n",
    "            print(a)\n",
    "        a += 1\n",
    "        \n",
    "# Call the function\n",
    "play_fizzbuzz()"
   ]
  },
  {
   "cell_type": "markdown",
   "metadata": {},
   "source": [
    "Functions are also able to take in arguments and return results"
   ]
  },
  {
   "cell_type": "code",
   "execution_count": null,
   "metadata": {},
   "outputs": [],
   "source": [
    "def fizz_or_buzz(a):\n",
    "    if a % 3 == 0 and a % 5 == 0: # is a a factor is 3 and 5?\n",
    "        return \"FizzBuzz\"\n",
    "    elif a % 3 == 0: # is a a factor of 3?\n",
    "        return \"Fizz\"\n",
    "    elif a % 5 == 0: # is a a factor of 5?\n",
    "        return \"Buzz\"\n",
    "    else:\n",
    "        return str(a)\n",
    "    \n",
    "for a in range(1,16):\n",
    "    result = fizz_or_buzz(a)\n",
    "    print(result)"
   ]
  },
  {
   "cell_type": "markdown",
   "metadata": {},
   "source": [
    "<h2><font color=Red> Modules </font></h2>\n",
    "\n",
    "Modules (or libraries) are reusable pieces of code that are defined elsewhere or in other python files. These files can be builtin to python itself or user-written code that we have found and imported from elsewhere.\n",
    "\n",
    "To use modules, we first have to tell the python intepreter where to find these pieces of code by **importing** these modules into our file. This importing is typically done at the top of any python file but here we will demonstrate in a cell instead.\n",
    "\n",
    "There are many many modules out there for python, each aiming to do a specific task or function. However, be sure that a module (especially a third-party one) is compatible with the python version you are running"
   ]
  },
  {
   "cell_type": "code",
   "execution_count": null,
   "metadata": {},
   "outputs": [],
   "source": [
    "# we import the builtin math module\n",
    "# documentation: https://docs.python.org/2.7/library/math.html\n",
    "import math\n",
    "\n",
    "# after importing, we are able to use the functions defined in the module by\n",
    "a = 3.14159\n",
    "whole_a = math.floor(a)\n",
    "print(whole_a)"
   ]
  }
 ],
 "metadata": {
  "celltoolbar": "Raw Cell Format",
  "interpreter": {
   "hash": "e55666fbbf217aa3df372b978577f47b6009e2f78e2ec76a584f49cd54a1e62c"
  },
  "kernelspec": {
   "display_name": "Python 2",
   "language": "python",
   "name": "python2"
  },
  "language_info": {
   "codemirror_mode": {
    "name": "ipython",
    "version": 2
   },
   "file_extension": ".py",
   "mimetype": "text/x-python",
   "name": "python",
   "nbconvert_exporter": "python",
   "pygments_lexer": "ipython2",
   "version": "2.7.18"
  }
 },
 "nbformat": 4,
 "nbformat_minor": 2
}

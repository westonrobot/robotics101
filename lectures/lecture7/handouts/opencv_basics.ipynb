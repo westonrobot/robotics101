{
 "cells": [
  {
   "cell_type": "markdown",
   "metadata": {},
   "source": [
    "<h1><center><font color=green>OpenCV Basics Sample Codes</font></center></h1>"
   ]
  },
  {
   "cell_type": "markdown",
   "metadata": {},
   "source": [
    "<h2><font color=Red> About </font></h2>\n",
    "\n",
    "This notebook seeks to cover and demonstrate certain topics of basic OpenCV. While this notebook covers most of what you would need in a basic computer vision project, the concepts covered here are non-exhaustive. OpenCV is an open source library that provides a commmon infrastructure for computer vision applications and to accelerate the use of machine perception in commercial products. "
   ]
  },
  {
   "cell_type": "markdown",
   "metadata": {},
   "source": [
    "## Reading an Image\n",
    "  \n",
    "To read an image using the OpenCV library in python, we will need to these libraries:\n",
    "\n",
    "* Numpy Library : The computer processes images in the form of a matrix for which NumPy is used and  OpenCV uses it in the background.\n",
    "\n",
    "* OpenCV python : OpenCV library previously it was cv but the updated version is cv2. It is used to manipulate images and videos.\n",
    "\n",
    "* To read the images **cv2.imread()** function is used.\n",
    "    * Syntax: cv2.imread(path, flag)\n",
    "\n",
    "    * Parameters:\n",
    "        * path: A string representing the path of the image to be read.\n",
    "\n",
    "        * flag: It specifies the way in which image should be read. It’s default value is cv2.IMREAD_COLOR  \n",
    "            * cv.IMREAD_COLOR : Loads a color image. Any transparency of image will be neglected. It is the default flag. Can be replaced with integer value 1.\n",
    "            * cv.IMREAD_GRAYSCALE : Loads image in grayscale mode. Can be replaced with integer value 0.\n",
    "            * cv.IMREAD_UNCHANGED : Loads image as such including alpha channel. Can be replaced with integer value -1.\n",
    "    \n",
    "    * Return Value: This method returns an image that is loaded from the specified file path."
   ]
  },
  {
   "cell_type": "code",
   "execution_count": null,
   "metadata": {},
   "outputs": [],
   "source": [
    "import numpy as np\n",
    "import cv2 as cv\n",
    "\n",
    "# Load an color image in grayscale\n",
    "img = cv.imread('assets/puppy.jpg',0)"
   ]
  }
 ],
 "metadata": {
  "language_info": {
   "name": "python"
  },
  "orig_nbformat": 4
 },
 "nbformat": 4,
 "nbformat_minor": 2
}
